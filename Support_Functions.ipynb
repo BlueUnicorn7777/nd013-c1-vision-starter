{
 "cells": [
  {
   "cell_type": "markdown",
   "id": "05def09c",
   "metadata": {},
   "source": [
    "## Data Splits"
   ]
  },
  {
   "cell_type": "code",
   "execution_count": 1,
   "id": "7b91eb2e",
   "metadata": {
    "scrolled": true
   },
   "outputs": [
    {
     "name": "stdout",
     "output_type": "stream",
     "text": [
      "2022-03-12 02:17:30,159 INFO     Creating splits...\n",
      "72 15 10\n",
      "Creating symlink for train files\n",
      "Creating symlink for validation files\n",
      "Creating symlink for testing files\n",
      " Training count\n",
      "72\n",
      " Val count\n",
      "15\n",
      " Test count\n",
      "10\n",
      " Training Files\n",
      "segment-10017090168044687777_6380_000_6400_000_with_camera_labels.tfrecord\n",
      "segment-10023947602400723454_1120_000_1140_000_with_camera_labels.tfrecord\n",
      "segment-10061305430875486848_1080_000_1100_000_with_camera_labels.tfrecord\n",
      "segment-10072140764565668044_4060_000_4080_000_with_camera_labels.tfrecord\n",
      "segment-10075870402459732738_1060_000_1080_000_with_camera_labels.tfrecord\n",
      "segment-10094743350625019937_3420_000_3440_000_with_camera_labels.tfrecord\n",
      "segment-10096619443888687526_2820_000_2840_000_with_camera_labels.tfrecord\n",
      "segment-10107710434105775874_760_000_780_000_with_camera_labels.tfrecord\n",
      "segment-10153695247769592104_787_000_807_000_with_camera_labels.tfrecord\n",
      "segment-10206293520369375008_2796_800_2816_800_with_camera_labels.tfrecord\n",
      "segment-10212406498497081993_5300_000_5320_000_with_camera_labels.tfrecord\n",
      "segment-10226164909075980558_180_000_200_000_with_camera_labels.tfrecord\n",
      "segment-10231929575853664160_1160_000_1180_000_with_camera_labels.tfrecord\n",
      "segment-10235335145367115211_5420_000_5440_000_with_camera_labels.tfrecord\n",
      "segment-10241508783381919015_2889_360_2909_360_with_camera_labels.tfrecord\n",
      "segment-10275144660749673822_5755_561_5775_561_with_camera_labels.tfrecord\n",
      "segment-10391312872392849784_4099_400_4119_400_with_camera_labels.tfrecord\n",
      "segment-10444454289801298640_4360_000_4380_000_with_camera_labels.tfrecord\n",
      "segment-10485926982439064520_4980_000_5000_000_with_camera_labels.tfrecord\n",
      "segment-10500357041547037089_1474_800_1494_800_with_camera_labels.tfrecord\n",
      "segment-1051897962568538022_238_170_258_170_with_camera_labels.tfrecord\n",
      "segment-10588771936253546636_2300_000_2320_000_with_camera_labels.tfrecord\n",
      "segment-10596949720463106554_1933_530_1953_530_with_camera_labels.tfrecord\n",
      "segment-10599748131695282446_1380_000_1400_000_with_camera_labels.tfrecord\n",
      "segment-10625026498155904401_200_000_220_000_with_camera_labels.tfrecord\n",
      "segment-10664823084372323928_4360_000_4380_000_with_camera_labels.tfrecord\n",
      "segment-10723911392655396041_860_000_880_000_with_camera_labels.tfrecord\n",
      "segment-10724020115992582208_7660_400_7680_400_with_camera_labels.tfrecord\n",
      "segment-10734565072045778791_440_000_460_000_with_camera_labels.tfrecord\n",
      "segment-10750135302241325253_180_000_200_000_with_camera_labels.tfrecord\n",
      "segment-10770759614217273359_1465_000_1485_000_with_camera_labels.tfrecord\n",
      "segment-10786629299947667143_3440_000_3460_000_with_camera_labels.tfrecord\n",
      "segment-10793018113277660068_2714_540_2734_540_with_camera_labels.tfrecord\n",
      "segment-1083056852838271990_4080_000_4100_000_with_camera_labels.tfrecord\n",
      "segment-10876852935525353526_1640_000_1660_000_with_camera_labels.tfrecord\n",
      "segment-10923963890428322967_1445_000_1465_000_with_camera_labels.tfrecord\n",
      "segment-10940952441434390507_1888_710_1908_710_with_camera_labels.tfrecord\n",
      "segment-10963653239323173269_1924_000_1944_000_with_camera_labels.tfrecord\n",
      "segment-11004685739714500220_2300_000_2320_000_with_camera_labels.tfrecord\n",
      "segment-11060291335850384275_3761_210_3781_210_with_camera_labels.tfrecord\n",
      "segment-11070802577416161387_740_000_760_000_with_camera_labels.tfrecord\n",
      "segment-11113047206980595400_2560_000_2580_000_with_camera_labels.tfrecord\n",
      "segment-11126313430116606120_1439_990_1459_990_with_camera_labels.tfrecord\n",
      "segment-11183906854663518829_2294_000_2314_000_with_camera_labels.tfrecord\n",
      "segment-11199484219241918646_2810_030_2830_030_with_camera_labels.tfrecord\n",
      "segment-11219370372259322863_5320_000_5340_000_with_camera_labels.tfrecord\n",
      "segment-11236550977973464715_3620_000_3640_000_with_camera_labels.tfrecord\n",
      "segment-11252086830380107152_1540_000_1560_000_with_camera_labels.tfrecord\n",
      "segment-11343624116265195592_5910_530_5930_530_with_camera_labels.tfrecord\n",
      "segment-11355519273066561009_5323_000_5343_000_with_camera_labels.tfrecord\n",
      "segment-11379226583756500423_6230_810_6250_810_with_camera_labels.tfrecord\n",
      "segment-11392401368700458296_1086_429_1106_429_with_camera_labels.tfrecord\n",
      "segment-11454085070345530663_1905_000_1925_000_with_camera_labels.tfrecord\n",
      "segment-1146261869236413282_1680_000_1700_000_with_camera_labels.tfrecord\n",
      "segment-11486225968269855324_92_000_112_000_with_camera_labels.tfrecord\n",
      "segment-11566385337103696871_5740_000_5760_000_with_camera_labels.tfrecord\n",
      "segment-11588853832866011756_2184_462_2204_462_with_camera_labels.tfrecord\n",
      "segment-11623618970700582562_2840_367_2860_367_with_camera_labels.tfrecord\n",
      "segment-1172406780360799916_1660_000_1680_000_with_camera_labels.tfrecord\n",
      "segment-11839652018869852123_2565_000_2585_000_with_camera_labels.tfrecord\n",
      "segment-11846396154240966170_3540_000_3560_000_with_camera_labels.tfrecord\n",
      "segment-11847506886204460250_1640_000_1660_000_with_camera_labels.tfrecord\n",
      "segment-1191788760630624072_3880_000_3900_000_with_camera_labels.tfrecord\n",
      "segment-11918003324473417938_1400_000_1420_000_with_camera_labels.tfrecord\n",
      "segment-11925224148023145510_1040_000_1060_000_with_camera_labels.tfrecord\n",
      "segment-11928449532664718059_1200_000_1220_000_with_camera_labels.tfrecord\n",
      "segment-11940460932056521663_1760_000_1780_000_with_camera_labels.tfrecord\n",
      "segment-11967272535264406807_580_000_600_000_with_camera_labels.tfrecord\n",
      "segment-11971497357570544465_1200_000_1220_000_with_camera_labels.tfrecord\n",
      "segment-1208303279778032257_1360_000_1380_000_with_camera_labels.tfrecord\n",
      "segment-12161824480686739258_1813_380_1833_380_with_camera_labels.tfrecord\n",
      "segment-12174529769287588121_3848_440_3868_440_with_camera_labels.tfrecord\n",
      " Test Files\n",
      "segment-10082223140073588526_6140_000_6160_000_with_camera_labels.tfrecord\n",
      "segment-10455472356147194054_1560_000_1580_000_with_camera_labels.tfrecord\n",
      "segment-10498013744573185290_1240_000_1260_000_with_camera_labels.tfrecord\n",
      "segment-10927752430968246422_4940_000_4960_000_with_camera_labels.tfrecord\n",
      "segment-10964956617027590844_1584_680_1604_680_with_camera_labels.tfrecord\n",
      "segment-11119453952284076633_1369_940_1389_940_with_camera_labels.tfrecord\n",
      "segment-11674150664140226235_680_000_700_000_with_camera_labels.tfrecord\n",
      "segment-11718898130355901268_2300_000_2320_000_with_camera_labels.tfrecord\n",
      "segment-11799592541704458019_9828_750_9848_750_with_camera_labels.tfrecord\n",
      "segment-12027892938363296829_4086_280_4106_280_with_camera_labels.tfrecord\n",
      " Validation Files\n",
      "segment-1005081002024129653_5313_150_5333_150_with_camera_labels.tfrecord\n",
      "segment-1022527355599519580_4866_960_4886_960_with_camera_labels.tfrecord\n",
      "segment-10327752107000040525_1120_000_1140_000_with_camera_labels.tfrecord\n",
      "segment-10517728057304349900_3360_000_3380_000_with_camera_labels.tfrecord\n",
      "segment-10526338824408452410_5714_660_5734_660_with_camera_labels.tfrecord\n",
      "segment-10584247114982259878_490_000_510_000_with_camera_labels.tfrecord\n",
      "segment-10676267326664322837_311_180_331_180_with_camera_labels.tfrecord\n",
      "segment-10975280749486260148_940_000_960_000_with_camera_labels.tfrecord\n",
      "segment-11017034898130016754_697_830_717_830_with_camera_labels.tfrecord\n",
      "segment-11076364019363412893_1711_000_1731_000_with_camera_labels.tfrecord\n",
      "segment-11139647661584646830_5470_000_5490_000_with_camera_labels.tfrecord\n",
      "segment-11318901554551149504_520_000_540_000_with_camera_labels.tfrecord\n",
      "segment-11388947676680954806_5427_320_5447_320_with_camera_labels.tfrecord\n",
      "segment-11489533038039664633_4820_000_4840_000_with_camera_labels.tfrecord\n",
      "segment-12179768245749640056_5561_070_5581_070_with_camera_labels.tfrecord\n"
     ]
    }
   ],
   "source": [
    "!cd /app/project\n",
    "!rm -rf /app/project/data/train\n",
    "!rm -rf /app/project/data/val\n",
    "!rm -rf /app/project/data/test\n",
    "!python3 create_splits.py --source /app/project/data/waymo/training_and_validation/ --destination /app/project/data/\n",
    "!echo \" Training count\"\n",
    "!ls data/train | wc -l\n",
    "!echo \" Val count\"\n",
    "!ls data/val | wc -l\n",
    "!echo \" Test count\"\n",
    "!ls data/test | wc -l\n",
    "!echo \" Training Files\"\n",
    "!ls data/train\n",
    "!echo \" Test Files\"\n",
    "!ls data/test\n",
    "!echo \" Validation Files\"\n",
    "!ls data/val"
   ]
  },
  {
   "cell_type": "markdown",
   "id": "f1f0eb57",
   "metadata": {},
   "source": [
    "## To Create the config file"
   ]
  },
  {
   "cell_type": "code",
   "execution_count": 4,
   "id": "87c2af29",
   "metadata": {},
   "outputs": [],
   "source": [
    "!rm -rf /app/project/training/reference\n",
    "!mkdir -p /app/project/training/reference\n",
    "!python edit_config.py --train_dir /app/project/data/train/ --eval_dir /app/project/data/val/ --batch_size 4 \\\n",
    "--checkpoint ./training/pretrained-models/ssd_resnet50_v1_fpn_640x640_coco17_tpu-8/checkpoint/ckpt-0 \\\n",
    "--label_map label_map.pbtxt\n",
    "!cp pipeline_new.config /app/project/training/reference"
   ]
  },
  {
   "cell_type": "markdown",
   "id": "2ffacc35",
   "metadata": {},
   "source": [
    "## To Limit the GPU memory"
   ]
  },
  {
   "cell_type": "code",
   "execution_count": 1,
   "id": "6a3a5b46",
   "metadata": {},
   "outputs": [
    {
     "name": "stdout",
     "output_type": "stream",
     "text": [
      "Num GPUs Available:  1\n",
      "1 Physical GPUs, 1 Logical GPUs\n"
     ]
    }
   ],
   "source": [
    "'''\n",
    "import tensorflow as tf\n",
    "print(\"Num GPUs Available: \", len(tf.config.list_physical_devices('GPU')))\n",
    "gpus = tf.config.list_physical_devices('GPU')\n",
    "if gpus:\n",
    "  try:\n",
    "    # Currently, memory growth needs to be the same across GPUs\n",
    "    for gpu in gpus:\n",
    "      tf.config.experimental.set_memory_growth(gpu, True)\n",
    "    logical_gpus = tf.config.list_logical_devices('GPU')\n",
    "    print(len(gpus), \"Physical GPUs,\", len(logical_gpus), \"Logical GPUs\")\n",
    "  except RuntimeError as e:\n",
    "    # Memory growth must be set before GPUs have been initialized\n",
    "    print(e)\n",
    "'''\n",
    "pass"
   ]
  },
  {
   "cell_type": "code",
   "execution_count": 4,
   "id": "6bb955c9",
   "metadata": {},
   "outputs": [
    {
     "name": "stdout",
     "output_type": "stream",
     "text": [
      "Sat Mar 12 14:48:16 2022       \r\n",
      "+-----------------------------------------------------------------------------+\r\n",
      "| NVIDIA-SMI 510.47.03    Driver Version: 510.47.03    CUDA Version: 11.6     |\r\n",
      "|-------------------------------+----------------------+----------------------+\r\n",
      "| GPU  Name        Persistence-M| Bus-Id        Disp.A | Volatile Uncorr. ECC |\r\n",
      "| Fan  Temp  Perf  Pwr:Usage/Cap|         Memory-Usage | GPU-Util  Compute M. |\r\n",
      "|                               |                      |               MIG M. |\r\n",
      "|===============================+======================+======================|\r\n",
      "|   0  NVIDIA GeForce ...  On   | 00000000:01:00.0  On |                  N/A |\r\n",
      "| 31%   56C    P2    89W / 160W |   5456MiB /  6144MiB |     97%      Default |\r\n",
      "|                               |                      |                  N/A |\r\n",
      "+-------------------------------+----------------------+----------------------+\r\n",
      "                                                                               \r\n",
      "+-----------------------------------------------------------------------------+\r\n",
      "| Processes:                                                                  |\r\n",
      "|  GPU   GI   CI        PID   Type   Process name                  GPU Memory |\r\n",
      "|        ID   ID                                                   Usage      |\r\n",
      "|=============================================================================|\r\n",
      "|    0   N/A  N/A      1635      G                                      35MiB |\r\n",
      "|    0   N/A  N/A      6028      G                                     171MiB |\r\n",
      "|    0   N/A  N/A      6154      G                                      50MiB |\r\n",
      "|    0   N/A  N/A     59589      G                                     140MiB |\r\n",
      "|    0   N/A  N/A     64284      G                                       1MiB |\r\n",
      "|    0   N/A  N/A     66504      C                                    5033MiB |\r\n",
      "+-----------------------------------------------------------------------------+\r\n"
     ]
    }
   ],
   "source": [
    "#!pip install gast==0.3.3\n",
    "!nvidia-smi"
   ]
  },
  {
   "cell_type": "code",
   "execution_count": 17,
   "id": "4bc4a22d",
   "metadata": {
    "scrolled": true
   },
   "outputs": [],
   "source": [
    "# Training Process\n",
    "#!python /app/project/experiments/model_main_tf2.py --model_dir=training/reference/ \\\n",
    "#--pipeline_config_path=training/reference/pipeline_new.config \n",
    "pass"
   ]
  },
  {
   "cell_type": "code",
   "execution_count": 18,
   "id": "7099f3b9",
   "metadata": {},
   "outputs": [
    {
     "name": "stdout",
     "output_type": "stream",
     "text": [
      "USER         PID %CPU %MEM    VSZ   RSS TTY      STAT START   TIME COMMAND\r\n",
      "root           1  0.0  0.0   6000  3664 pts/0    Ss+  02:10   0:00 bash\r\n",
      "root          10  0.0  0.3 293808 109248 pts/0   Sl   02:10   0:43 /usr/bin/pyth\r\n",
      "root          15  0.0  0.1 774080 57772 ?        Ssl  02:10   0:09 /usr/bin/pyth\r\n",
      "root          44  0.0  0.1 773860 59104 ?        Rsl  02:14   0:04 /usr/bin/pyth\r\n",
      "root         513  4.0  1.2 2693528 397896 ?      Ssl  02:40  28:36 /usr/bin/pyth\r\n",
      "root         744  0.0  0.0   2624    72 pts/1    Ss+  02:40   0:00 /usr/bin/sh -\r\n",
      "root         745  0.0  1.3 9132708 443320 pts/1  Sl+  02:40   0:19 /usr/local/bi\r\n",
      "root         763  0.0  0.3 1363552 113312 pts/1  Sl+  02:40   0:12 /usr/local/li\r\n",
      "root        2002  1.7 18.6 20528716 6083560 ?    Ssl  13:01   1:38 /usr/bin/pyth\r\n",
      "root        5536  143  7.3 7123096 2400312 pts/0 Rl   14:32   0:38 python experi\r\n",
      "root        5795  0.0  0.0   2624   548 pts/2    Ss+  14:33   0:00 /usr/bin/sh -\r\n",
      "root        5796  0.0  0.0   7656  3152 pts/2    R+   14:33   0:00 ps -aux\r\n"
     ]
    }
   ],
   "source": [
    "!ps -aux"
   ]
  },
  {
   "cell_type": "code",
   "execution_count": 8,
   "id": "c83d025b",
   "metadata": {},
   "outputs": [],
   "source": [
    "# Limit the GPU memory\n",
    "'''\n",
    "import tensorflow as tf\n",
    "gpus = tf.config.list_physical_devices('GPU')\n",
    "if gpus:\n",
    "  # Restrict TensorFlow to only allocate 1GB of memory on the first GPU\n",
    "  try:\n",
    "    tf.config.set_logical_device_configuration(\n",
    "        gpus[0],\n",
    "        [tf.config.LogicalDeviceConfiguration(memory_limit=2048)])\n",
    "    logical_gpus = tf.config.list_logical_devices('GPU')\n",
    "    print(len(gpus), \"Physical GPUs,\", len(logical_gpus), \"Logical GPUs\")\n",
    "  except RuntimeError as e:\n",
    "    # Virtual devices must be set before GPUs have been initialized\n",
    "    print(e)\n",
    "'''\n",
    "pass"
   ]
  },
  {
   "cell_type": "code",
   "execution_count": 9,
   "id": "1ccecf2e",
   "metadata": {},
   "outputs": [],
   "source": [
    "#!python experiments/model_main_tf2.py --model_dir=training/reference/ --pipeline_config_path=training/reference/pipeline_new.config --checkpoint_dir=training/reference/\n",
    "pass"
   ]
  },
  {
   "cell_type": "markdown",
   "id": "5f233f7b",
   "metadata": {},
   "source": [
    "## Save the Model"
   ]
  },
  {
   "cell_type": "code",
   "execution_count": 5,
   "id": "8bffa6f4",
   "metadata": {},
   "outputs": [
    {
     "name": "stdout",
     "output_type": "stream",
     "text": [
      "WARNING:tensorflow:From /usr/local/lib/python3.8/dist-packages/tensorflow/python/autograph/impl/api.py:458: calling map_fn_v2 (from tensorflow.python.ops.map_fn) with back_prop=False is deprecated and will be removed in a future version.\n",
      "Instructions for updating:\n",
      "back_prop=False is deprecated. Consider using tf.stop_gradient instead.\n",
      "Instead of:\n",
      "results = tf.map_fn(fn, elems, back_prop=False)\n",
      "Use:\n",
      "results = tf.nest.map_structure(tf.stop_gradient, tf.map_fn(fn, elems))\n",
      "W0312 21:34:39.163445 140281237657408 deprecation.py:610] From /usr/local/lib/python3.8/dist-packages/tensorflow/python/autograph/impl/api.py:458: calling map_fn_v2 (from tensorflow.python.ops.map_fn) with back_prop=False is deprecated and will be removed in a future version.\n",
      "Instructions for updating:\n",
      "back_prop=False is deprecated. Consider using tf.stop_gradient instead.\n",
      "Instead of:\n",
      "results = tf.map_fn(fn, elems, back_prop=False)\n",
      "Use:\n",
      "results = tf.nest.map_structure(tf.stop_gradient, tf.map_fn(fn, elems))\n",
      "WARNING:tensorflow:Skipping full serialization of Keras layer <object_detection.meta_architectures.ssd_meta_arch.SSDMetaArch object at 0x7f9540156d00>, because it is not built.\n",
      "W0312 21:34:52.806506 140281237657408 save_impl.py:71] Skipping full serialization of Keras layer <object_detection.meta_architectures.ssd_meta_arch.SSDMetaArch object at 0x7f9540156d00>, because it is not built.\n",
      "W0312 21:35:04.454685 140281237657408 save.py:260] Found untraced functions such as WeightSharedConvolutionalBoxPredictor_layer_call_fn, WeightSharedConvolutionalBoxPredictor_layer_call_and_return_conditional_losses, WeightSharedConvolutionalBoxHead_layer_call_fn, WeightSharedConvolutionalBoxHead_layer_call_and_return_conditional_losses, WeightSharedConvolutionalClassHead_layer_call_fn while saving (showing 5 of 208). These functions will not be directly callable after loading.\n",
      "INFO:tensorflow:Assets written to: experiments/Experiment1/saved_model/assets\n",
      "I0312 21:35:08.562975 140281237657408 builder_impl.py:779] Assets written to: experiments/Experiment1/saved_model/assets\n",
      "INFO:tensorflow:Writing pipeline config file to experiments/Experiment1/pipeline.config\n",
      "I0312 21:35:09.046938 140281237657408 config_util.py:253] Writing pipeline config file to experiments/Experiment1/pipeline.config\n"
     ]
    }
   ],
   "source": [
    "!python exporter_main_v2.py \\\n",
    "  --pipeline_config_path=training/reference/pipeline_new.config \\\n",
    "  --trained_checkpoint_dir=training/reference/ \\\n",
    "  --output_directory=experiments/Experiment1 \\\n",
    "  --input_type=image_tensor"
   ]
  },
  {
   "cell_type": "markdown",
   "id": "fdaa8379",
   "metadata": {},
   "source": [
    "## Create a Movie"
   ]
  },
  {
   "cell_type": "code",
   "execution_count": 7,
   "id": "587f5ed4",
   "metadata": {},
   "outputs": [
    {
     "name": "stdout",
     "output_type": "stream",
     "text": [
      "2022-03-12 21:40:45,310 INFO     Loading model from experiments/Experiment0/saved_model\n",
      "2022-03-12 21:40:52,278 INFO     Loading config from experiments/Experiment0/pipeline.config\n",
      "WARNING:tensorflow:num_readers has been reduced to 1 to match input file shards.\n",
      "WARNING:tensorflow:From /usr/local/lib/python3.8/dist-packages/object_detection/builders/dataset_builder.py:101: parallel_interleave (from tensorflow.python.data.experimental.ops.interleave_ops) is deprecated and will be removed in a future version.\n",
      "Instructions for updating:\n",
      "Use `tf.data.Dataset.interleave(map_func, cycle_length, block_length, num_parallel_calls=tf.data.AUTOTUNE)` instead. If sloppy execution is desired, use `tf.data.Options.deterministic`.\n",
      "WARNING:tensorflow:From /usr/local/lib/python3.8/dist-packages/object_detection/builders/dataset_builder.py:236: DatasetV1.map_with_legacy_function (from tensorflow.python.data.ops.dataset_ops) is deprecated and will be removed in a future version.\n",
      "Instructions for updating:\n",
      "Use `tf.data.Dataset.map()\n",
      "WARNING:tensorflow:num_readers has been reduced to 1 to match input file shards.\n",
      "2022-03-12 21:40:53,747 INFO     Inference on data/waymo/training_and_validation/segment-10017090168044687777_6380_000_6400_000_with_camera_labels.tfrecord\n",
      "2022-03-12 21:40:53,829 INFO     Step: 0\n",
      "2022-03-12 21:40:57,044 INFO     Step: 10\n"
     ]
    }
   ],
   "source": [
    "!python inference_video.py --labelmap_path label_map.pbtxt \\\n",
    "--model_path experiments/Experiment0/saved_model \\\n",
    "--tf_record_path data/waymo/training_and_validation/segment-10017090168044687777_6380_000_6400_000_with_camera_labels.tfrecord \\\n",
    "--config_path experiments/Experiment0/pipeline.config \\\n",
    "--output_path experiments/Experiment0/animation.mp4"
   ]
  },
  {
   "cell_type": "code",
   "execution_count": null,
   "id": "9fe9a164",
   "metadata": {},
   "outputs": [],
   "source": []
  }
 ],
 "metadata": {
  "kernelspec": {
   "display_name": "Python 3 (ipykernel)",
   "language": "python",
   "name": "python3"
  },
  "language_info": {
   "codemirror_mode": {
    "name": "ipython",
    "version": 3
   },
   "file_extension": ".py",
   "mimetype": "text/x-python",
   "name": "python",
   "nbconvert_exporter": "python",
   "pygments_lexer": "ipython3",
   "version": "3.8.10"
  }
 },
 "nbformat": 4,
 "nbformat_minor": 5
}
